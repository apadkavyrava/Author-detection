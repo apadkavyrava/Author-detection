{
  "nbformat": 4,
  "nbformat_minor": 0,
  "metadata": {
    "colab": {
      "name": "Autor_name_detection.ipynb",
      "provenance": [],
      "authorship_tag": "ABX9TyP82Hu9adxH/b2s+ergdoUG",
      "include_colab_link": true
    },
    "kernelspec": {
      "name": "python3",
      "display_name": "Python 3"
    }
  },
  "cells": [
    {
      "cell_type": "markdown",
      "metadata": {
        "id": "view-in-github",
        "colab_type": "text"
      },
      "source": [
        "<a href=\"https://colab.research.google.com/github/apadkavyrava/Author-detection/blob/master/Autor_name_detection.ipynb\" target=\"_parent\"><img src=\"https://colab.research.google.com/assets/colab-badge.svg\" alt=\"Open In Colab\"/></a>"
      ]
    },
    {
      "cell_type": "markdown",
      "metadata": {
        "id": "No-dcuoxgHzW",
        "colab_type": "text"
      },
      "source": [
        "Cated sourse file with terminal and re-named to article_100.csv\n",
        "```\n",
        "# ANNAs-MacBook:Downloads ANNA$ cat articles.csv | head -n 100 > articles_100.csv\n",
        "```\n",
        "\n",
        "\n",
        "\n"
      ]
    },
    {
      "cell_type": "markdown",
      "metadata": {
        "id": "-8biMwnMRG7C",
        "colab_type": "text"
      },
      "source": [
        "Import and look into data"
      ]
    },
    {
      "cell_type": "code",
      "metadata": {
        "id": "TaSx6tLTOkP5",
        "colab_type": "code",
        "outputId": "26d5a63f-904b-4a8c-fa68-728f6eb74d5f",
        "colab": {
          "base_uri": "https://localhost:8080/",
          "height": 374
        }
      },
      "source": [
        "import pandas as pd\n",
        "import spacy\n",
        "nlp = spacy.load('en_core_web_sm')\n",
        "\n",
        "raw_data = pd.read_csv('articles_100.csv')\n",
        "\n",
        "#have a look how file looks like\n",
        "raw_data.head()\n",
        "raw_data.columns\n",
        "#we need only authors\n",
        "data = raw_data['author'].astype(str)\n",
        "print(data.head(20))\n",
        "\n"
      ],
      "execution_count": 0,
      "outputs": [
        {
          "output_type": "stream",
          "text": [
            "0     http://www.dailymail.co.uk/home/search.html?s=...\n",
            "1     http://www.dailymail.co.uk/home/search.html?s=...\n",
            "2                                          Josh Jackman\n",
            "3     http://www.dailymail.co.uk/home/search.html?s=...\n",
            "4                                            Ben Rumsby\n",
            "5                                          Zahra Mulroy\n",
            "6                                         James Titcomb\n",
            "7     http://www.dailymail.co.uk/home/search.html?s=...\n",
            "8                                           James Caven\n",
            "9                              Ben Chapman, Ben Chapman\n",
            "10                                             BBC News\n",
            "11    http://www.dailymail.co.uk/home/search.html?s=...\n",
            "12    http://www.dailymail.co.uk/home/search.html?s=...\n",
            "13                                        Matthew Field\n",
            "14    http://www.dailymail.co.uk/home/search.html?s=...\n",
            "15                                        Jessica Glass\n",
            "16    http://www.dailymail.co.uk/home/search.html?s=...\n",
            "17                                           Ned Simons\n",
            "18                                             BBC News\n",
            "19    http://www.dailymail.co.uk/home/search.html?s=...\n",
            "Name: author, dtype: object\n"
          ],
          "name": "stdout"
        }
      ]
    },
    {
      "cell_type": "markdown",
      "metadata": {
        "id": "gH0Aw4z4fwFY",
        "colab_type": "text"
      },
      "source": [
        "Authors contains in single words. So we can use part of speech tagging to extract authors. Suppose it will be the pairs of proper nouns."
      ]
    },
    {
      "cell_type": "code",
      "metadata": {
        "id": "ENa-_EaoX82s",
        "colab_type": "code",
        "outputId": "a8b6ef0b-a041-4456-8faf-ea884bfb0534",
        "colab": {
          "base_uri": "https://localhost:8080/",
          "height": 221
        }
      },
      "source": [
        "\n",
        "\n",
        "from spacy.matcher import Matcher\n",
        "matcher = Matcher(nlp.vocab)\n",
        "\n",
        "def extract_full_name(int_doc):\n",
        "  pattern = [{'POS': \"PROPN\"}, {'POS': \"PROPN\"}]\n",
        "  matcher.add('FULL_NAME', None, pattern)\n",
        "  matches = matcher(int_doc)\n",
        "  for match_id, start, end in matches:\n",
        "    span = int_doc[start:end]\n",
        "    return span.text\n",
        "\n",
        "tokens = data.apply(lambda x: nlp(str(x)))\n",
        "names = tokens.apply(lambda x: extract_full_name(x))\n",
        "print(names)"
      ],
      "execution_count": 0,
      "outputs": [
        {
          "output_type": "stream",
          "text": [
            "0       Associated Press\n",
            "1       Associated Press\n",
            "2           Josh Jackman\n",
            "3     Cheyenne Macdonald\n",
            "4             Ben Rumsby\n",
            "             ...        \n",
            "93       Aatif Sulleyman\n",
            "94      Associated Press\n",
            "95       Julia Pritchard\n",
            "96           Adam Lusher\n",
            "97           Jack Austin\n",
            "Name: author, Length: 98, dtype: object\n"
          ],
          "name": "stdout"
        }
      ]
    },
    {
      "cell_type": "markdown",
      "metadata": {
        "id": "K5Qbg63RgDGe",
        "colab_type": "text"
      },
      "source": [
        "Pairs Proper Nouns (PROPN) includs organisations. There is no chance to apply filter, because we have no marks about Proper name.\n"
      ]
    },
    {
      "cell_type": "markdown",
      "metadata": {
        "id": "KHd2J8GFi7KV",
        "colab_type": "text"
      },
      "source": [
        "Use named entity recognition and print labes."
      ]
    },
    {
      "cell_type": "code",
      "metadata": {
        "id": "UkE2D9wfkUQI",
        "colab_type": "code",
        "outputId": "2dcf2d76-5f21-460e-f48e-b50c64f920b2",
        "colab": {
          "base_uri": "https://localhost:8080/",
          "height": 54
        }
      },
      "source": [
        "import spacy\n",
        "\n",
        "train = data[11:22]\n",
        "nlp = spacy.load(\"en_core_web_sm\")\n",
        "records = []\n",
        "for raw in data:\n",
        "  authors =[]\n",
        "  doc = nlp(raw)\n",
        "  for ent in doc.ents:\n",
        "    authors.append((ent.text, ent.label_))\n",
        "  records.append(authors)\n",
        "print(records)\n",
        "\n"
      ],
      "execution_count": 0,
      "outputs": [
        {
          "output_type": "stream",
          "text": [
            "[[('Associated Press', 'ORG')], [('Associated Press', 'ORG')], [('Josh Jackman', 'PERSON')], [('Reuters', 'ORG'), ('Cheyenne Macdonald', 'PERSON')], [('Ben Rumsby', 'PERSON')], [('Zahra Mulroy', 'PERSON')], [('James Titcomb', 'PERSON')], [('Heidi Parker', 'PERSON'), ('Dailymail.com', 'ORG')], [('James Caven', 'PERSON')], [('Ben Chapman', 'PERSON'), ('Ben Chapman', 'PERSON')], [('BBC News', 'ORG')], [('Dailymail.com', 'ORG')], [('Matthew Wright', 'PERSON'), ('Dailymail.com', 'ORG')], [('Matthew Field', 'PERSON')], [], [('Jessica Glass', 'PERSON')], [('Marc Jackson', 'PERSON'), ('MailOnline', 'ORG')], [('Ned Simons', 'PERSON')], [('BBC News', 'ORG')], [('Associated Press', 'ORG')], [('Dailymail.com', 'ORG')], [('Tony Ward', 'PERSON')], [('Tony Ward', 'PERSON')], [('Jane Foster', 'PERSON')], [('Sophie Campbell', 'PERSON')], [('Caroline Mortimer', 'PERSON'), ('Caroline Mortimer', 'PERSON')], [('Shivali Best For Mailonline', 'ORG')], [('Joseph Patrick McCormick', 'PERSON')], [('By Press Association', 'ORG')], [('Andrew Gilpin', 'PERSON')], [('Chris Stocks', 'PERSON')], [], [('Snejana Farberov', 'PERSON'), ('Dailymail.com', 'ORG')], [('Sara C Nelson', 'PERSON')], [('Emily Crane', 'PERSON'), ('Valerie Edwards', 'PERSON'), ('Dailymail.com', 'ORG')], [('Jack Torrance', 'PERSON')], [], [], [('Thomas Burrows', 'PERSON'), ('MailOnline', 'ORG')], [], [('Associated Press', 'ORG')], [('Reuters', 'ORG')], [], [('Associated Press', 'ORG')], [], [('Jack Wilson', 'PERSON')], [('Kate Forrester', 'PERSON')], [('By Press Association', 'ORG')], [('Alex Matthews-King', 'PERSON'), ('Alex Matthews-King', 'PERSON')], [], [('Aoibhinn Mcbride', 'PERSON'), ('Dailymail.com', 'ORG')], [('James Whaling', 'PERSON')], [('Elizabeth Aubrey', 'PERSON'), ('Elizabeth Aubrey', 'PERSON')], [('Aaron Flanagan', 'PERSON')], [('Kelly Mclaughlin', 'PERSON'), ('Mailonline', 'GPE')], [('Luke Brown', 'PERSON'), ('Luke Brown', 'PERSON')], [('Rod Ardehali', 'PERSON'), ('Mailonline', 'PERSON')], [('Olivia Buxton Smith', 'PERSON')], [('Philip Reid', 'ORG')], [], [('Sophie Curtis', 'PERSON')], [('Amy Packham', 'PERSON')], [('Tim Wallace', 'PERSON')], [('Tom Hoggins', 'PERSON')], [('Molly Holt', 'PERSON')], [('Associated Press', 'ORG')], [('By Press Association', 'ORG')], [('By Press Association', 'ORG')], [('Jeff Farrell', 'PERSON'), ('Jeff Farrell', 'PERSON')], [], [('Lucy Mapstone', 'PERSON'), ('Press Association', 'ORG')], [('Lucy Mapstone', 'PERSON'), ('Press Association', 'ORG')], [('Charlotte Neal', 'PERSON')], [('Catherine Wyatt', 'PERSON')], [('Ryan Smith', 'PERSON'), ('MailOnline', 'ORG')], [('Associated Press', 'ORG')], [], [('Bbc News', 'ORG')], [('Reuters', 'ORG')], [('Reuters', 'ORG')], [('Tim Healy', 'PERSON')], [('Tim Healy', 'PERSON')], [], [('Ash Percival', 'PERSON')], [('Lara Keay', 'PERSON')], [], [('Max McLean', 'PERSON')], [('Lucy Clarke-Billings', 'PERSON')], [('Miguel Delaney', 'PERSON')], [('Nikki Schwab', 'PERSON'), ('Dailymail.com', 'ORG')], [('Benjamin Butterworth', 'PERSON')], [('Andy Lynes', 'PERSON')], [('Associated Press', 'ORG')], [('Aatif Sulleyman', 'PERSON'), ('Aatif Sulleyman', 'PERSON')], [('Associated Press', 'ORG')], [('Julia Pritchard', 'PERSON'), ('MailOnline', 'ORG')], [('Adam Lusher', 'PERSON'), ('Adam Lusher', 'PERSON')], [('Jack Austin', 'PERSON')]]\n"
          ],
          "name": "stdout"
        }
      ]
    },
    {
      "cell_type": "markdown",
      "metadata": {
        "id": "nX6NKtB8ejuU",
        "colab_type": "text"
      },
      "source": [
        "We extracted proper noun and labels from the rows. Now apply filter to extract only authors and replace organisations, unknows etc. with None value"
      ]
    },
    {
      "cell_type": "code",
      "metadata": {
        "id": "BhSPKwOUfafR",
        "colab_type": "code",
        "outputId": "a8ff1f92-e1e2-4116-e244-6144e9deba4b",
        "colab": {
          "base_uri": "https://localhost:8080/",
          "height": 54
        }
      },
      "source": [
        "new_data = []\n",
        "for record in records:\n",
        "  pers_rec = [t for t in record if t[1] == 'PERSON']\n",
        "  if len(pers_rec) ==0:\n",
        "    new_data.append(None)\n",
        "  else: \n",
        "    new_data.append(pers_rec[0][0])\n",
        "print(new_data)"
      ],
      "execution_count": 0,
      "outputs": [
        {
          "output_type": "stream",
          "text": [
            "[None, None, 'Josh Jackman', 'Cheyenne Macdonald', 'Ben Rumsby', 'Zahra Mulroy', 'James Titcomb', 'Heidi Parker', 'James Caven', 'Ben Chapman', None, None, 'Matthew Wright', 'Matthew Field', None, 'Jessica Glass', 'Marc Jackson', 'Ned Simons', None, None, None, 'Tony Ward', 'Tony Ward', 'Jane Foster', 'Sophie Campbell', 'Caroline Mortimer', None, 'Joseph Patrick McCormick', None, 'Andrew Gilpin', 'Chris Stocks', None, 'Snejana Farberov', 'Sara C Nelson', 'Emily Crane', 'Jack Torrance', None, None, 'Thomas Burrows', None, None, None, None, None, None, 'Jack Wilson', 'Kate Forrester', None, 'Alex Matthews-King', None, 'Aoibhinn Mcbride', 'James Whaling', 'Elizabeth Aubrey', 'Aaron Flanagan', 'Kelly Mclaughlin', 'Luke Brown', 'Rod Ardehali', 'Olivia Buxton Smith', None, None, 'Sophie Curtis', 'Amy Packham', 'Tim Wallace', 'Tom Hoggins', 'Molly Holt', None, None, None, 'Jeff Farrell', None, 'Lucy Mapstone', 'Lucy Mapstone', 'Charlotte Neal', 'Catherine Wyatt', 'Ryan Smith', None, None, None, None, None, 'Tim Healy', 'Tim Healy', None, 'Ash Percival', 'Lara Keay', None, 'Max McLean', 'Lucy Clarke-Billings', 'Miguel Delaney', 'Nikki Schwab', 'Benjamin Butterworth', 'Andy Lynes', None, 'Aatif Sulleyman', None, 'Julia Pritchard', 'Adam Lusher', 'Jack Austin']\n"
          ],
          "name": "stdout"
        }
      ]
    },
    {
      "cell_type": "markdown",
      "metadata": {
        "id": "NzFrjBNRyF0E",
        "colab_type": "text"
      },
      "source": [
        "add colums Authors_clean in source file with new filtered data."
      ]
    },
    {
      "cell_type": "code",
      "metadata": {
        "id": "dVDEYjMmybdy",
        "colab_type": "code",
        "outputId": "44b559f5-d715-47cb-fe4c-2666496675c9",
        "colab": {
          "base_uri": "https://localhost:8080/",
          "height": 683
        }
      },
      "source": [
        "article = raw_data.copy()\n",
        "article['authors_clean']=new_data\n",
        "article.head()"
      ],
      "execution_count": 0,
      "outputs": [
        {
          "output_type": "execute_result",
          "data": {
            "text/html": [
              "<div>\n",
              "<style scoped>\n",
              "    .dataframe tbody tr th:only-of-type {\n",
              "        vertical-align: middle;\n",
              "    }\n",
              "\n",
              "    .dataframe tbody tr th {\n",
              "        vertical-align: top;\n",
              "    }\n",
              "\n",
              "    .dataframe thead th {\n",
              "        text-align: right;\n",
              "    }\n",
              "</style>\n",
              "<table border=\"1\" class=\"dataframe\">\n",
              "  <thead>\n",
              "    <tr style=\"text-align: right;\">\n",
              "      <th></th>\n",
              "      <th>Unnamed: 0</th>\n",
              "      <th>author</th>\n",
              "      <th>content</th>\n",
              "      <th>description</th>\n",
              "      <th>publishedAt</th>\n",
              "      <th>source</th>\n",
              "      <th>title</th>\n",
              "      <th>url</th>\n",
              "      <th>urlToImage</th>\n",
              "      <th>authors_clean</th>\n",
              "    </tr>\n",
              "  </thead>\n",
              "  <tbody>\n",
              "    <tr>\n",
              "      <th>0</th>\n",
              "      <td>0</td>\n",
              "      <td>http://www.dailymail.co.uk/home/search.html?s=...</td>\n",
              "      <td>KAMPALA, Uganda (AP) - Rights groups on Monday...</td>\n",
              "      <td>KAMPALA, Uganda (AP) - Rights groups on Monday...</td>\n",
              "      <td>2017-11-13T16:35:28Z</td>\n",
              "      <td>{'id': None, 'name': 'Dailymail.co.uk'}</td>\n",
              "      <td>Sudan's president, wanted by the ICC, visits U...</td>\n",
              "      <td>http://www.dailymail.co.uk/wires/ap/article-50...</td>\n",
              "      <td>http://i.dailymail.co.uk/i/pix/m_logo_636x382p...</td>\n",
              "      <td>None</td>\n",
              "    </tr>\n",
              "    <tr>\n",
              "      <th>1</th>\n",
              "      <td>1</td>\n",
              "      <td>http://www.dailymail.co.uk/home/search.html?s=...</td>\n",
              "      <td>MIAMI (AP) - The U.S. Supreme Court agreed Mon...</td>\n",
              "      <td>MIAMI (AP) - The U.S. Supreme Court agreed Mon...</td>\n",
              "      <td>2017-11-13T16:35:12Z</td>\n",
              "      <td>{'id': None, 'name': 'Dailymail.co.uk'}</td>\n",
              "      <td>Florida man back at Supreme Court with 1st Ame...</td>\n",
              "      <td>http://www.dailymail.co.uk/wires/ap/article-50...</td>\n",
              "      <td>http://i.dailymail.co.uk/i/pix/m_logo_636x382p...</td>\n",
              "      <td>None</td>\n",
              "    </tr>\n",
              "    <tr>\n",
              "      <th>2</th>\n",
              "      <td>2</td>\n",
              "      <td>Josh Jackman</td>\n",
              "      <td>The Spice Girls are set to reunite for a TV sp...</td>\n",
              "      <td>Viva Forever!</td>\n",
              "      <td>2017-11-13T16:34:58Z</td>\n",
              "      <td>{'id': None, 'name': 'Pinknews.co.uk'}</td>\n",
              "      <td>The Spice Girls are reuniting</td>\n",
              "      <td>http://www.pinknews.co.uk/2017/11/13/the-spice...</td>\n",
              "      <td>http://www.pinknews.co.uk/images/2017/11/Getty...</td>\n",
              "      <td>Josh Jackman</td>\n",
              "    </tr>\n",
              "    <tr>\n",
              "      <th>3</th>\n",
              "      <td>3</td>\n",
              "      <td>http://www.dailymail.co.uk/home/search.html?s=...</td>\n",
              "      <td>Ride-hailing firm Lyft Inc said on Monday it w...</td>\n",
              "      <td>Ride-hailing firm Lyft Inc said on Monday it w...</td>\n",
              "      <td>2017-11-13T16:34:58Z</td>\n",
              "      <td>{'id': None, 'name': 'Dailymail.co.uk'}</td>\n",
              "      <td>Lyft to drive into Canada in first internation...</td>\n",
              "      <td>http://www.dailymail.co.uk/sciencetech/article...</td>\n",
              "      <td>http://i.dailymail.co.uk/i/pix/2017/11/13/16/4...</td>\n",
              "      <td>Cheyenne Macdonald</td>\n",
              "    </tr>\n",
              "    <tr>\n",
              "      <th>4</th>\n",
              "      <td>4</td>\n",
              "      <td>Ben Rumsby</td>\n",
              "      <td>T im Gudgin, the long-time voice of BBC televi...</td>\n",
              "      <td>Tim Gudgin, the long-time voice of BBC televis...</td>\n",
              "      <td>2017-11-13T16:34:45Z</td>\n",
              "      <td>{'id': None, 'name': 'Telegraph.co.uk'}</td>\n",
              "      <td>Tim Gudgin, voice of Saturday tea-time footbal...</td>\n",
              "      <td>http://www.telegraph.co.uk/football/2017/11/13...</td>\n",
              "      <td>http://www.telegraph.co.uk/content/dam/footbal...</td>\n",
              "      <td>Ben Rumsby</td>\n",
              "    </tr>\n",
              "  </tbody>\n",
              "</table>\n",
              "</div>"
            ],
            "text/plain": [
              "   Unnamed: 0  ...       authors_clean\n",
              "0           0  ...                None\n",
              "1           1  ...                None\n",
              "2           2  ...        Josh Jackman\n",
              "3           3  ...  Cheyenne Macdonald\n",
              "4           4  ...          Ben Rumsby\n",
              "\n",
              "[5 rows x 10 columns]"
            ]
          },
          "metadata": {
            "tags": []
          },
          "execution_count": 48
        }
      ]
    }
  ]
}